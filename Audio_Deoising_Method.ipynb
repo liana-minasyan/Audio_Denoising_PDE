{
 "cells": [
  {
   "cell_type": "code",
   "execution_count": 34,
   "metadata": {},
   "outputs": [],
   "source": [
    "from scipy.fftpack import fft,ifft, rfft, irfft\n",
    "import numpy as np\n",
    "import cmath\n",
    "import matplotlib.pyplot as plt\n",
    "from scipy.io import wavfile"
   ]
  },
  {
   "cell_type": "code",
   "execution_count": 35,
   "metadata": {},
   "outputs": [],
   "source": [
    "%matplotlib inline"
   ]
  },
  {
   "cell_type": "markdown",
   "metadata": {},
   "source": [
    "ALL OF THE CONDITIONS MUST BE TRUE"
   ]
  },
  {
   "cell_type": "code",
   "execution_count": 36,
   "metadata": {},
   "outputs": [
    {
     "data": {
      "text/plain": [
       "True"
      ]
     },
     "execution_count": 36,
     "metadata": {},
     "output_type": "execute_result"
    }
   ],
   "source": [
    "NumberofWindows = 300 #M\n",
    "WindowSize= 400 #N\n",
    "Overlap = 0.75 # actually its the nonoverlaping percentage\n",
    "(WindowSize*Overlap - int(WindowSize*Overlap))==0 #require that size * overlap is integer"
   ]
  },
  {
   "cell_type": "code",
   "execution_count": 37,
   "metadata": {},
   "outputs": [
    {
     "data": {
      "text/plain": [
       "True"
      ]
     },
     "execution_count": 37,
     "metadata": {},
     "output_type": "execute_result"
    }
   ],
   "source": [
    "ClipLen = WindowSize * Overlap* (NumberofWindows) + WindowSize*(1-Overlap) \n",
    "(int(ClipLen) -ClipLen)==0 #CLipLen is also must be an int"
   ]
  },
  {
   "cell_type": "code",
   "execution_count": 38,
   "metadata": {},
   "outputs": [
    {
     "name": "stderr",
     "output_type": "stream",
     "text": [
      "D:\\ANACONDA33\\lib\\site-packages\\scipy\\io\\wavfile.py:273: WavFileWarning: Chunk (non-data) not understood, skipping it.\n",
      "  WavFileWarning)\n"
     ]
    }
   ],
   "source": [
    "rate, data = wavfile.read('Norah Jones - The Story.wav')"
   ]
  },
  {
   "cell_type": "code",
   "execution_count": 39,
   "metadata": {},
   "outputs": [
    {
     "data": {
      "text/plain": [
       "481105"
      ]
     },
     "execution_count": 39,
     "metadata": {},
     "output_type": "execute_result"
    }
   ],
   "source": [
    "len(data)"
   ]
  },
  {
   "cell_type": "code",
   "execution_count": null,
   "metadata": {},
   "outputs": [],
   "source": []
  },
  {
   "cell_type": "code",
   "execution_count": 40,
   "metadata": {},
   "outputs": [
    {
     "data": {
      "text/plain": [
       "True"
      ]
     },
     "execution_count": 40,
     "metadata": {},
     "output_type": "execute_result"
    }
   ],
   "source": [
    "ClipLen<=len(data)"
   ]
  },
  {
   "cell_type": "code",
   "execution_count": 41,
   "metadata": {},
   "outputs": [],
   "source": [
    "ClipLen =int(ClipLen) \n",
    "noisedata = np.random.normal(0,5142000,len(data))\n",
    "noise = np.asarray(noisedata, np.int16)\n",
    "wavfile.write('noise.wav', rate, noise)"
   ]
  },
  {
   "cell_type": "code",
   "execution_count": 42,
   "metadata": {},
   "outputs": [],
   "source": [
    "snd = data[0:ClipLen+1]\n",
    "snd1 = noise[0:ClipLen+1] \n",
    "SoundWithNoise = np.asarray(0.9* snd+ 0.1*snd1 , np.int16)\n",
    "wavfile.write('noiseandsignal_01.wav', rate, SoundWithNoise) # creating the noise wav file\n",
    "#SoundWithNoise"
   ]
  },
  {
   "cell_type": "code",
   "execution_count": 43,
   "metadata": {},
   "outputs": [
    {
     "data": {
      "text/plain": [
       "(90101,)"
      ]
     },
     "execution_count": 43,
     "metadata": {},
     "output_type": "execute_result"
    }
   ],
   "source": [
    "snd1.shape"
   ]
  },
  {
   "cell_type": "code",
   "execution_count": 44,
   "metadata": {},
   "outputs": [],
   "source": [
    "SoundClip = SoundWithNoise[0:ClipLen+1]\n",
    "#len(SoundClip)"
   ]
  },
  {
   "cell_type": "code",
   "execution_count": 45,
   "metadata": {},
   "outputs": [
    {
     "data": {
      "text/plain": [
       "[<matplotlib.lines.Line2D at 0x20c646b55f8>]"
      ]
     },
     "execution_count": 45,
     "metadata": {},
     "output_type": "execute_result"
    },
    {
     "data": {
      "image/png": "[encoded data removed]",
      "text/plain": [
       "<Figure size 432x288 with 1 Axes>"
      ]
     },
     "metadata": {
      "needs_background": "light"
     },
     "output_type": "display_data"
    }
   ],
   "source": [
    "plt.plot(SoundClip)"
   ]
  },
  {
   "cell_type": "code",
   "execution_count": 46,
   "metadata": {},
   "outputs": [
    {
     "name": "stderr",
     "output_type": "stream",
     "text": [
      "D:\\ANACONDA33\\lib\\site-packages\\ipykernel_launcher.py:2: RuntimeWarning: invalid value encountered in sqrt\n",
      "  \n"
     ]
    },
    {
     "data": {
      "text/plain": [
       "[<matplotlib.lines.Line2D at 0x20c66359d30>]"
      ]
     },
     "execution_count": 46,
     "metadata": {},
     "output_type": "execute_result"
    },
    {
     "data": {
      "image/png": "[encoded data removed]",
      "text/plain": [
       "<Figure size 432x288 with 1 Axes>"
      ]
     },
     "metadata": {
      "needs_background": "light"
     },
     "output_type": "display_data"
    }
   ],
   "source": [
    "spectrum = fft(SoundClip)\n",
    "plt.plot(np.sqrt(np.imag(spectrum)*2 + np.real(spectrum)*2))"
   ]
  },
  {
   "cell_type": "code",
   "execution_count": 47,
   "metadata": {},
   "outputs": [],
   "source": [
    "def WF(N): #N is the window size\n",
    "    n = np.arange(N)\n",
    "    a =25/46 -(1-25/46)*np.cos((2*np.pi*n)/(N-1))\n",
    "    return a"
   ]
  },
  {
   "cell_type": "code",
   "execution_count": 48,
   "metadata": {
    "scrolled": true
   },
   "outputs": [],
   "source": [
    "ImPart = np.zeros((NumberofWindows, WindowSize)) #(M,N)\n",
    "RePart = np.zeros((NumberofWindows, WindowSize)) #(M,N)"
   ]
  },
  {
   "cell_type": "code",
   "execution_count": 49,
   "metadata": {},
   "outputs": [],
   "source": [
    "def Windowing():\n",
    "    MaxValue = 0\n",
    "    i = 0\n",
    "    position = 0\n",
    "   \n",
    "    #while i * WindowSize <= ClipLen:\n",
    "    while (position + WindowSize <= ClipLen):\n",
    "        #print('i is :', i)\n",
    "        #print('i * WindowSize is : ', i * WindowSize)\n",
    "        #print('WF is : ', WF(WindowSize)) \n",
    "        \n",
    "        window = WF(WindowSize)*SoundClip [position: position+WindowSize]\n",
    "        #print('Window is : ', window)\n",
    "        \n",
    "        FourierWindow = fft(window)\n",
    "        #print('FourierWindow is : ', FourierWindow)\n",
    "        \n",
    "        RePart[i,:] = np.real(FourierWindow[:])\n",
    "        #print('RePart is : ', RePart[i,:])      \n",
    "        \n",
    "        ImPart[i,:]= np.imag(FourierWindow[:])\n",
    "        #print('ImPart is : ', ImPart[i,:])     \n",
    "        \n",
    "        Max = np.max(np.abs(FourierWindow))\n",
    "        #print('Max is : ',Max)            \n",
    "        \n",
    "        if(Max >MaxValue):\n",
    "            MaxValue=Max\n",
    "        i=i+1\n",
    "        position = int(position+WindowSize * Overlap)\n",
    "        \n",
    "        #print('Positon is : ', position)\n",
    "        #print('End of the LOOP ')\n",
    "        #print(' ')\n",
    "      \n",
    "    return [RePart,ImPart,MaxValue]"
   ]
  },
  {
   "cell_type": "code",
   "execution_count": 50,
   "metadata": {},
   "outputs": [],
   "source": [
    "#Main, \n",
    "[RePart,ImPart,MaxValue]= Windowing()"
   ]
  },
  {
   "cell_type": "code",
   "execution_count": 51,
   "metadata": {},
   "outputs": [],
   "source": [
    "#8\n",
    "STFT = np.sqrt(RePart**2+ ImPart**2) #???????????????????????????\n",
    "#STFT #is a matrix with size (NumberofWindows, Windowsize)"
   ]
  },
  {
   "cell_type": "code",
   "execution_count": 52,
   "metadata": {},
   "outputs": [],
   "source": [
    "#9\n",
    "Phase = np.zeros((NumberofWindows, WindowSize)) #(M,N)\n",
    "for i in range(NumberofWindows):\n",
    "    for j in range(WindowSize):\n",
    "        #print(RePart[i,j], ImPart[i,j])\n",
    "        Phase[i,j]=cmath.phase(complex(RePart[i,j], ImPart[i,j]))\n",
    "#Phase"
   ]
  },
  {
   "cell_type": "markdown",
   "metadata": {},
   "source": [
    "Now the PDE part:\n",
    "Finite Difference method"
   ]
  },
  {
   "cell_type": "markdown",
   "metadata": {},
   "source": [
    "$$u_{t} = q_{x} \\hspace{0.1cm} C(u) \\hspace{0.1cm} u_{xx}$$\n",
    "$$C(u)= \\frac{1}{1+e^{-k(u-\\eta)}}$$"
   ]
  },
  {
   "cell_type": "code",
   "execution_count": 53,
   "metadata": {},
   "outputs": [],
   "source": [
    "T = 10 #number of iterations ,   t\n",
    "M = NumberofWindows#y ,    j\n",
    "N = WindowSize #x ,      i\n",
    "\n",
    "\n",
    "# we will set dx = 1,dy = 1,dt = 1 and we wont use them in the FDM as they wont matter"
   ]
  },
  {
   "cell_type": "code",
   "execution_count": 54,
   "metadata": {},
   "outputs": [],
   "source": [
    "eta = 0.05\n",
    "\n",
    "#of the noise in the frequency domain =power spectrum= magnitude of fourier transform )\n",
    "# step of the sigmoid\n",
    "q= 0.5 # ? scaling factor for the defusive term\n",
    "k = 10**5 #the steepness of the curve\n",
    "def C(u):\n",
    "    return 1/(1+ np.exp(-k*(u-eta)))"
   ]
  },
  {
   "cell_type": "code",
   "execution_count": 55,
   "metadata": {},
   "outputs": [],
   "source": [
    "def PDESignalRemoval(InitialCondition):\n",
    "    #initialization \n",
    "    u = np.zeros((T+1, M+1, N+1)) #ALL BOUNDARIES ARE 0,  no need for separate initialization\n",
    "    u[0,1:,1:] = InitialCondition  #as the MagnitudeSTFT has size(M,N) and u[0,:,:] has (N+1 ,M+1)\n",
    "    \n",
    "    for t in range(T): \n",
    "        for j in range(1,M+1): #run in all windows, y \n",
    "            for i in range(1,N): #run inside the window \n",
    "                u[t+1,j,i] = u[t,j,i]+ q * C(u[t,j,i]) * (u[t,j,i-1]- 2*(u[t,j,i])+u[t,j,i+1]) \n",
    "                \n",
    "    return u[T,1:,1:]  "
   ]
  },
  {
   "cell_type": "code",
   "execution_count": 56,
   "metadata": {},
   "outputs": [],
   "source": [
    "#10\n",
    "STFT2 = PDESignalRemoval(STFT/MaxValue)"
   ]
  },
  {
   "cell_type": "code",
   "execution_count": 57,
   "metadata": {},
   "outputs": [
    {
     "data": {
      "text/plain": [
       "[<matplotlib.lines.Line2D at 0x20c6636db70>]"
      ]
     },
     "execution_count": 57,
     "metadata": {},
     "output_type": "execute_result"
    },
    {
     "data": {
      "image/png": "[encoded data removed]",
      "text/plain": [
       "<Figure size 432x288 with 1 Axes>"
      ]
     },
     "metadata": {
      "needs_background": "light"
     },
     "output_type": "display_data"
    }
   ],
   "source": [
    "ii = 12\n",
    "plt.plot((STFT/MaxValue)[ii])\n",
    "plt.plot(STFT2[ii])"
   ]
  },
  {
   "cell_type": "code",
   "execution_count": 58,
   "metadata": {},
   "outputs": [
    {
     "data": {
      "text/plain": [
       "[<matplotlib.lines.Line2D at 0x20c66424f60>]"
      ]
     },
     "execution_count": 58,
     "metadata": {},
     "output_type": "execute_result"
    },
    {
     "data": {
      "image/png": "[encoded data removed]",
      "text/plain": [
       "<Figure size 432x288 with 1 Axes>"
      ]
     },
     "metadata": {
      "needs_background": "light"
     },
     "output_type": "display_data"
    }
   ],
   "source": [
    "ii = 20\n",
    "plt.plot(((STFT/MaxValue)[ii] - STFT2[ii]))"
   ]
  },
  {
   "cell_type": "code",
   "execution_count": 59,
   "metadata": {
    "scrolled": true
   },
   "outputs": [],
   "source": [
    "#11\n",
    "STFT_New= STFT - STFT2*MaxValue"
   ]
  },
  {
   "cell_type": "code",
   "execution_count": 60,
   "metadata": {},
   "outputs": [],
   "source": [
    "#12,13\n",
    "RePart= STFT_New* np.cos(Phase)\n",
    "ImPart= STFT_New* np.sin(Phase)"
   ]
  },
  {
   "cell_type": "code",
   "execution_count": 61,
   "metadata": {},
   "outputs": [],
   "source": [
    "def UnWindow():\n",
    "    position = 0\n",
    "    NewSoundClip = np.zeros(ClipLen+1)\n",
    "    for i in range(NumberofWindows):         \n",
    "        TempClip = np.real(ifft((RePart[i])+ 1j*(ImPart[i])))\n",
    "        Ave = NewSoundClip[position: position+int(WindowSize*Overlap)] +TempClip[0: int(WindowSize*Overlap)]\n",
    "        NonOverlapSec = TempClip[int(WindowSize*Overlap):] \n",
    "        NewSoundClip[position: position + WindowSize] =np.concatenate((Ave, NonOverlapSec),axis=0)          \n",
    "        position= position + int(WindowSize*Overlap)   \n",
    "    return NewSoundClip"
   ]
  },
  {
   "cell_type": "code",
   "execution_count": 62,
   "metadata": {
    "scrolled": true
   },
   "outputs": [],
   "source": [
    "#14\n",
    "New_SoundClip = UnWindow()"
   ]
  },
  {
   "cell_type": "code",
   "execution_count": 63,
   "metadata": {},
   "outputs": [],
   "source": [
    "New_SoundClip = np.asarray(New_SoundClip, np.int16)"
   ]
  },
  {
   "cell_type": "code",
   "execution_count": 64,
   "metadata": {},
   "outputs": [
    {
     "data": {
      "text/plain": [
       "[<matplotlib.lines.Line2D at 0x20c6acd98d0>]"
      ]
     },
     "execution_count": 64,
     "metadata": {},
     "output_type": "execute_result"
    },
    {
     "data": {
      "image/png": "[encoded data removed]",
      "text/plain": [
       "<Figure size 432x288 with 1 Axes>"
      ]
     },
     "metadata": {
      "needs_background": "light"
     },
     "output_type": "display_data"
    }
   ],
   "source": [
    "plt.plot(SoundClip)\n",
    "plt.plot(New_SoundClip)\n"
   ]
  },
  {
   "cell_type": "code",
   "execution_count": 65,
   "metadata": {},
   "outputs": [],
   "source": [
    "wavfile.write(\"NEW_Norah Jones - The Story.wav\", rate, New_SoundClip)# do with te soundclip data"
   ]
  },
  {
   "cell_type": "code",
   "execution_count": null,
   "metadata": {},
   "outputs": [],
   "source": []
  },
  {
   "cell_type": "code",
   "execution_count": null,
   "metadata": {},
   "outputs": [],
   "source": []
  }
 ],
 "metadata": {
  "kernelspec": {
   "display_name": "Python 3",
   "language": "python",
   "name": "python3"
  },
  "language_info": {
   "codemirror_mode": {
    "name": "ipython",
    "version": 3
   },
   "file_extension": ".py",
   "mimetype": "text/x-python",
   "name": "python",
   "nbconvert_exporter": "python",
   "pygments_lexer": "ipython3",
   "version": "3.7.1"
  }
 },
 "nbformat": 4,
 "nbformat_minor": 2
}
